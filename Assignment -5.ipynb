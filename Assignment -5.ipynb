{
 "cells": [
  {
   "cell_type": "markdown",
   "id": "105a8fd3",
   "metadata": {},
   "source": [
    "The academic office at the Hogwarts School of Witchcraft and Wizardry has compiled data about students' grades. The data is provided as text from standard input in three parts: information about courses, information about students and information about grades. Each part has a specific line format, described below..\n",
    "\n",
    "Information about courses\n",
    "Line format: Course Code~Course Name~Semester~Year~Instructor\n",
    "Information about students\n",
    "Line format: Roll Number~Full Name\n",
    "Information about grades\n",
    "Line format: Course Code~Semester~Year~Roll Number~Grade\n",
    "The possible grades are A, AB, B, BC, C, CD, D with corresponding grade points 10, 9, 8, 7, 6, 5 and 4. The grade point average of a student is the sum of his/her grade points divided by the number of courses. For instance, if a student has taken two courses with grades A and C, the grade point average is 8.50 = (10+7)÷2. If a student has not completed any courses, the grade point average is defined to be 0.\n",
    "\n",
    "You may assume that the data is internally consistent. For every grade, there is a corresponding course code and roll number in the input data.\n",
    "\n",
    "Each section of the input starts with a line containing a single keyword. The first section begins with a line containing Courses. The second section begins with a line containing Students. The third section begins with a line containing Grades. The end of the input is marked by a line containing EndOfInput.\n",
    "\n",
    "Write a Python program to read the data as described above and print out a line listing the grade point average for each student in the following format:\n",
    "\n",
    "Roll Number~Full Name~Grade Point Average\n",
    "Your output should be sorted by Roll Number. The grade point average should be rounded off to 2 digits after the decimal point. Use the built-in function round()."
   ]
  },
  {
   "cell_type": "code",
   "execution_count": null,
   "id": "c162074f",
   "metadata": {},
   "outputs": [],
   "source": [
    "grade_data = {\"A\":10 , \"AB\" : 9, \"B\":8, \"BC\": 7, \"C\": 6, \"CD\":5, \"D\" : 4 }\n",
    "student_detail = {}\n",
    "Grade_detail = {}\n",
    "read_line = input().strip()\n",
    "while read_line != 'Students':\n",
    "    read_line = input().strip()\n",
    "read_line = input().strip()\n",
    "while read_line != 'Grades':\n",
    "    student = read_line.split(\"~\")\n",
    "    student_detail[student[0]] = student[1]\n",
    "    read_line = input().strip()\n",
    "read_line = input().strip()\n",
    "while read_line != 'EndOfInput':\n",
    "    grades = read_line.split(\"~\")\n",
    "    if grades[3] not in Grade_detail.keys():\n",
    "        Grade_detail[grades[3]] = [grade_data[grades[4]]]\n",
    "    else:\n",
    "        list_1 = Grade_detail[grades[3]] + [grade_data[grades[4]]]\n",
    "        #print(Grade_detail[grades[3]])\n",
    "        Grade_detail[grades[3]] = list_1\n",
    "    read_line = input().strip()\n",
    "\n",
    "for student in Grade_detail.keys():\n",
    "    summation = 0\n",
    "    for grade in Grade_detail[student]:\n",
    "        summation = summation + grade\n",
    "    avg = round((summation)/len(Grade_detail[student]),2)\n",
    "    Grade_detail[student] = avg \n",
    "\n",
    "for student in sorted(student_detail.keys()):\n",
    "    if student not in Grade_detail.keys():\n",
    "        print(student+\"~\"+student_detail[student]+\"~\"+\"0\")\n",
    "    else:\n",
    "        print(student+\"~\"+student_detail[student]+\"~\"+ str(Grade_detail[student]))   \n",
    "    "
   ]
  },
  {
   "cell_type": "code",
   "execution_count": null,
   "id": "c40c4539",
   "metadata": {},
   "outputs": [],
   "source": []
  }
 ],
 "metadata": {
  "kernelspec": {
   "display_name": "Python 3",
   "language": "python",
   "name": "python3"
  },
  "language_info": {
   "codemirror_mode": {
    "name": "ipython",
    "version": 3
   },
   "file_extension": ".py",
   "mimetype": "text/x-python",
   "name": "python",
   "nbconvert_exporter": "python",
   "pygments_lexer": "ipython3",
   "version": "3.8.8"
  }
 },
 "nbformat": 4,
 "nbformat_minor": 5
}
