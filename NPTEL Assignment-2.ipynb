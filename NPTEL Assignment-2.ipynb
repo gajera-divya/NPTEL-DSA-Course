{
 "cells": [
  {
   "cell_type": "markdown",
   "id": "f6d3959d",
   "metadata": {},
   "source": [
    "efine a Python function remdup(l) that takes a nonempty list of integers l and removes all duplicates in l, keeping only the first occurrence of each number. For instance:\n",
    ">>> remdup([3,1,3,5])\n",
    "[3, 1, 5]\n",
    "\n",
    ">>> remdup([7,3,-1,-5])\n",
    "[7, 3, -1, -5]"
   ]
  },
  {
   "cell_type": "code",
   "execution_count": 1,
   "id": "2ce63dc4",
   "metadata": {},
   "outputs": [
    {
     "name": "stdout",
     "output_type": "stream",
     "text": [
      "[3, 1, 5]\n"
     ]
    }
   ],
   "source": [
    "\n",
    "#Assignment2\n",
    "    \n",
    "\n",
    "def remdup(list1):\n",
    "    a = len(list1)\n",
    "    for i in range(a):\n",
    "        for j in range(i+1,a):\n",
    "            \n",
    "            if list1[i] == list1[j]:\n",
    "                list1[j]= 0\n",
    "    while 0 in list1:\n",
    "        list1.remove(0)\n",
    "    return(list1)\n",
    "print(remdup([3,1,3,5]))\n"
   ]
  },
  {
   "cell_type": "markdown",
   "id": "e688c9f7",
   "metadata": {},
   "source": [
    "Write a Python function sumsquare(l) that takes a nonempty list of integers and returns a list [odd,even], where odd is the sum of squares all the odd numbers in l and even is the sum of squares of all the even numbers in l.\n",
    "\n",
    "Here are some examples to show how your function should work.\n",
    ">>> sumsquare([1,3,5])\n",
    "[35, 0]\n",
    "\n",
    ">>> sumsquare([2,4,6])\n",
    "[0, 56]\n"
   ]
  },
  {
   "cell_type": "code",
   "execution_count": 2,
   "id": "11cb25a7",
   "metadata": {},
   "outputs": [
    {
     "name": "stdout",
     "output_type": "stream",
     "text": [
      "[35, 0]\n"
     ]
    }
   ],
   "source": [
    "def sumsquare(list1):\n",
    "    sum1 = 0\n",
    "    sum2 = 0\n",
    "    for i in list1:\n",
    "        if i%2 ==0:\n",
    "            sum1 = sum1 + i**2\n",
    "        else:\n",
    "            sum2 = sum2 + i**2\n",
    "    return([sum2,sum1])\n",
    "print(sumsquare([1,3,5]))"
   ]
  },
  {
   "cell_type": "markdown",
   "id": "15275226",
   "metadata": {},
   "source": [
    "A two dimensional matrix can be represented in Python row-wise, as a list of lists: each inner list represents one row of the matrix. For instance, the matrix\n"
   ]
  },
  {
   "cell_type": "code",
   "execution_count": null,
   "id": "301c8619",
   "metadata": {},
   "outputs": [],
   "source": [
    "def transpose(list1):\n",
    "    a = len(list1)\n",
    "    b = len(list1[0])\n",
    "    list2 = []\n",
    "    \n",
    "    for i in range(b):\n",
    "        list3 = []\n",
    "        for j in range(a):\n",
    "            list3.append(list1[j][i])\n",
    "        list2.append(list3)\n",
    "    return(list2)\n",
    "    \n",
    "print(transpose([[3]]))"
   ]
  }
 ],
 "metadata": {
  "kernelspec": {
   "display_name": "Python 3",
   "language": "python",
   "name": "python3"
  },
  "language_info": {
   "codemirror_mode": {
    "name": "ipython",
    "version": 3
   },
   "file_extension": ".py",
   "mimetype": "text/x-python",
   "name": "python",
   "nbconvert_exporter": "python",
   "pygments_lexer": "ipython3",
   "version": "3.8.8"
  }
 },
 "nbformat": 4,
 "nbformat_minor": 5
}
