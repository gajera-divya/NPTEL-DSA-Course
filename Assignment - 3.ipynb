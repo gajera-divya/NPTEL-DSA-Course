{
 "cells": [
  {
   "cell_type": "markdown",
   "id": "ce6fa592",
   "metadata": {},
   "source": [
    "Define a Python function remdup(l) that takes a nonempty list of integers l and removes all duplicates in l, keeping only the first occurrence of each number"
   ]
  },
  {
   "cell_type": "code",
   "execution_count": 1,
   "id": "fb4f3009",
   "metadata": {},
   "outputs": [],
   "source": [
    "def remdup(l):\n",
    "    return(myremdup(l,[]))\n",
    "\n",
    "def myremdup(l,s):\n",
    "    if l == []:\n",
    "        return([])\n",
    "    else:\n",
    "        if l[0] in s:\n",
    "            return(myremdup(l[1:],s))\n",
    "        else:\n",
    "            return([l[0]]+myremdup(l[1:],s+[l[0]]))"
   ]
  },
  {
   "cell_type": "code",
   "execution_count": 2,
   "id": "b6fcc4a5",
   "metadata": {},
   "outputs": [
    {
     "data": {
      "text/plain": [
       "[8, 6, 4]"
      ]
     },
     "execution_count": 2,
     "metadata": {},
     "output_type": "execute_result"
    }
   ],
   "source": [
    "remdup([8,6,4,6,8])"
   ]
  },
  {
   "cell_type": "markdown",
   "id": "975af23d",
   "metadata": {},
   "source": [
    "Write a Python function sumsquare(l) that takes a nonempty list of integers and returns a list [odd,even], where odd is the sum of squares all the odd numbers in l and even is the sum of squares of all the even numbers in l"
   ]
  },
  {
   "cell_type": "code",
   "execution_count": 3,
   "id": "12358580",
   "metadata": {},
   "outputs": [],
   "source": [
    "def sumsquare(list1):\n",
    "    sum1 = 0\n",
    "    sum2 = 0\n",
    "    for i in list1:\n",
    "        if i%2 ==0:\n",
    "            sum1 = sum1 + i**2\n",
    "        else:\n",
    "            sum2 = sum2 + i**2\n",
    "    return([sum2,sum1])"
   ]
  },
  {
   "cell_type": "code",
   "execution_count": 4,
   "id": "ff7dcaa4",
   "metadata": {},
   "outputs": [
    {
     "data": {
      "text/plain": [
       "[35, 0]"
      ]
     },
     "execution_count": 4,
     "metadata": {},
     "output_type": "execute_result"
    }
   ],
   "source": [
    "sumsquare([1,3,5])"
   ]
  },
  {
   "cell_type": "markdown",
   "id": "ba85a82b",
   "metadata": {},
   "source": [
    "A two dimensional matrix can be represented in Python row-wise, as a list of lists: each inner list represents one row of the matrix."
   ]
  },
  {
   "cell_type": "code",
   "execution_count": 5,
   "id": "7b228a43",
   "metadata": {},
   "outputs": [],
   "source": [
    "def transpose(list1):\n",
    "    a = len(list1)\n",
    "    b = len(list1[0])\n",
    "    list2 = []\n",
    "    \n",
    "    for i in range(b):\n",
    "        list3 = []\n",
    "        for j in range(a):\n",
    "            list3.append(list1[j][i])\n",
    "        list2.append(list3)\n",
    "    return(list2)\n",
    "  "
   ]
  },
  {
   "cell_type": "code",
   "execution_count": 6,
   "id": "977db73d",
   "metadata": {},
   "outputs": [
    {
     "data": {
      "text/plain": [
       "[[1, 0, 0], [0, 1, 0], [0, 0, 1]]"
      ]
     },
     "execution_count": 6,
     "metadata": {},
     "output_type": "execute_result"
    }
   ],
   "source": [
    "transpose([[1,0,0],[0,1,0],[0,0,1]])"
   ]
  },
  {
   "cell_type": "code",
   "execution_count": null,
   "id": "e914ead3",
   "metadata": {},
   "outputs": [],
   "source": []
  }
 ],
 "metadata": {
  "kernelspec": {
   "display_name": "Python 3",
   "language": "python",
   "name": "python3"
  },
  "language_info": {
   "codemirror_mode": {
    "name": "ipython",
    "version": 3
   },
   "file_extension": ".py",
   "mimetype": "text/x-python",
   "name": "python",
   "nbconvert_exporter": "python",
   "pygments_lexer": "ipython3",
   "version": "3.8.8"
  }
 },
 "nbformat": 4,
 "nbformat_minor": 5
}
