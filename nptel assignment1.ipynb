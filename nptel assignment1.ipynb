{
 "cells": [
  {
   "cell_type": "markdown",
   "id": "b67fcb10",
   "metadata": {},
   "source": [
    "\n",
    "\"\"\"\n",
    "Write a function repfree(s) that takes as input a string s and checks whether any character appears more than once. The function should return True if there are no repetitions and False otherwise.\n",
    "\n",
    "\"\"\""
   ]
  },
  {
   "cell_type": "code",
   "execution_count": 46,
   "id": "a1eb756a",
   "metadata": {},
   "outputs": [],
   "source": [
    "def repfree(string):\n",
    "    for i in range(0,len(string)):\n",
    "        if string[i] in string[i+1:]:\n",
    "            return False\n",
    "    return True"
   ]
  },
  {
   "cell_type": "markdown",
   "id": "d545288c",
   "metadata": {},
   "source": [
    "# \"\"\"\n",
    "A positive integer m can be expresseed as the sum of three squares if it is of the form p + q + r where p, q, r ≥ 0, and p, q, r are all perfect squares. For instance, 2 can be written as 0+1+1 but 7 cannot be expressed as the sum of three squares. The first numbers that cannot be expressed as the sum of three squares are 7, 15, 23, 28, 31, 39, 47, 55, 60, 63, 71, … (see Legendre's three-square theorem).\n",
    "\n",
    "Write a Python function threesquares(m) that takes an integer m as input and returns True if m can be expressed as the sum of three squares and False otherwise. (If m is not positive, your function should return False.)\n",
    "\n",
    "Here are some examples of how your function should work\n",
    "\n",
    "\"\"\""
   ]
  },
  {
   "cell_type": "code",
   "execution_count": 47,
   "id": "2625ad2f",
   "metadata": {},
   "outputs": [],
   "source": [
    "def threesquares(n):\n",
    "    while n > 0 and n % 4 == 0:\n",
    "        n //= 4\n",
    "    return n % 8 != 7"
   ]
  },
  {
   "cell_type": "markdown",
   "id": "490ead82",
   "metadata": {},
   "source": [
    "A list of numbers is said to be a hill if it consists of an ascending sequence followed by a descending sequence, where each of the sequences is of length at least two. Similarly, a list of numbers is said to be a valley if it consists of an descending sequence followed by an ascending sequence. You can assume that consecutive numbers in the input sequence are always different from each other.\n",
    "\n",
    "Write a Python function hillvalley(l) that takes a list l of integers and returns True if it is a hill or a valley, and False otherwise."
   ]
  },
  {
   "cell_type": "code",
   "execution_count": null,
   "id": "1beca8b8",
   "metadata": {},
   "outputs": [],
   "source": [
    "def hillvalley(seq):\n",
    "    is_dec, is_inc = False, False\n",
    "    inflections = 0\n",
    "    for i in range(len(seq)-1):\n",
    "        if inflections > 1:\n",
    "            return False\n",
    "        right = seq[i+1]\n",
    "        middle = seq[i]\n",
    "        diff = right - middle\n",
    "        if diff > 0:\n",
    "            if is_dec:\n",
    "                inflections += 1\n",
    "            is_inc = True\n",
    "            is_dec = False\n",
    "        elif diff < 0:\n",
    "            if is_inc:\n",
    "                inflections += 1\n",
    "            is_dec = True\n",
    "            is_inc = False\n",
    "    if inflections == 1:\n",
    "        return True\n",
    "    return False\n",
    "    "
   ]
  },
  {
   "cell_type": "code",
   "execution_count": 42,
   "id": "8b2078e6",
   "metadata": {},
   "outputs": [],
   "source": [
    "### Assignment 5"
   ]
  },
  {
   "cell_type": "code",
   "execution_count": 43,
   "id": "0a87166d",
   "metadata": {},
   "outputs": [
    {
     "ename": "SyntaxError",
     "evalue": "invalid syntax (<ipython-input-43-210cb25795d5>, line 1)",
     "output_type": "error",
     "traceback": [
      "\u001b[1;36m  File \u001b[1;32m\"<ipython-input-43-210cb25795d5>\"\u001b[1;36m, line \u001b[1;32m1\u001b[0m\n\u001b[1;33m    The academic office at the Hogwarts School of Witchcraft and Wizardry has compiled data about students' grades. The data is provided as text from standard input in three parts: information about courses, information about students and information about grades. Each part has a specific line format, described below..\u001b[0m\n\u001b[1;37m        ^\u001b[0m\n\u001b[1;31mSyntaxError\u001b[0m\u001b[1;31m:\u001b[0m invalid syntax\n"
     ]
    }
   ],
   "source": [
    "The academic office at the Hogwarts School of Witchcraft and Wizardry has compiled data about students' grades. The data is provided as text from standard input in three parts: information about courses, information about students and information about grades. Each part has a specific line format, described below..\n",
    "\n",
    "Information about courses\n",
    "Line format: Course Code~Course Name~Semester~Year~Instructor\n",
    "Information about students\n",
    "Line format: Roll Number~Full Name\n",
    "Information about grades\n",
    "Line format: Course Code~Semester~Year~Roll Number~Grade\n",
    "The possible grades are A, AB, B, BC, C, CD, D with corresponding grade points 10, 9, 8, 7, 6, 5 and 4. The grade point average of a student is the sum of his/her grade points divided by the number of courses. For instance, if a student has taken two courses with grades A and C, the grade point average is 8.50 = (10+7)÷2. If a student has not completed any courses, the grade point average is defined to be 0.\n",
    "\n",
    "You may assume that the data is internally consistent. For every grade, there is a corresponding course code and roll number in the input data.\n",
    "\n",
    "Each section of the input starts with a line containing a single keyword. The first section begins with a line containing Courses. The second section begins with a line containing Students. The third section begins with a line containing Grades. The end of the input is marked by a line containing EndOfInput.\n",
    "\n",
    "Write a Python program to read the data as described above and print out a line listing the grade point average for each student in the following format:\n",
    "\n",
    "Roll Number~Full Name~Grade Point Average"
   ]
  },
  {
   "cell_type": "code",
   "execution_count": 41,
   "id": "e08bb373",
   "metadata": {},
   "outputs": [
    {
     "name": "stdout",
     "output_type": "stream",
     "text": [
      "coaschn\n",
      "ljcbvoa\n",
      "Students\n",
      "RAV4309~Angelina Johnson\n",
      "HUF7201~Gwenog Jones\n",
      "GRF9110~Parvati Patil\n",
      "RAV4308~Olive Hornby\n",
      "Grades\n",
      "POT~1~2011-2012~RAV4308~C\n",
      "POT~1~2011-2012~RAV4309~B\n",
      "POT~1~2011-2012~GRF9110~A\n",
      "EndOfInput\n",
      "GRF9110~Parvati Patil~10.0\n",
      "HUF7201~Gwenog Jones~0\n",
      "RAV4308~Olive Hornby~6.0\n",
      "RAV4309~Angelina Johnson~8.0\n"
     ]
    }
   ],
   "source": [
    "grade_data = {\"A\":10 , \"AB\" : 9, \"B\":8, \"BC\": 7, \"C\": 6, \"CD\":5, \"D\" : 4 }\n",
    "student_detail = {}\n",
    "Grade_detail = {}\n",
    "read_line = input().strip()\n",
    "while read_line != 'Students':\n",
    "    read_line = input().strip()\n",
    "read_line = input().strip()\n",
    "while read_line != 'Grades':\n",
    "    student = read_line.split(\"~\")\n",
    "    student_detail[student[0]] = student[1]\n",
    "    read_line = input().strip()\n",
    "read_line = input().strip()\n",
    "while read_line != 'EndOfInput':\n",
    "    grades = read_line.split(\"~\")\n",
    "    if grades[3] not in Grade_detail.keys():\n",
    "        Grade_detail[grades[3]] = [grade_data[grades[4]]]\n",
    "    else:\n",
    "        list_1 = Grade_detail[grades[3]] + [grade_data[grades[4]]]\n",
    "        #print(Grade_detail[grades[3]])\n",
    "        Grade_detail[grades[3]] = list_1\n",
    "    read_line = input().strip()\n",
    "\n",
    "for student in Grade_detail.keys():\n",
    "    summation = 0\n",
    "    for grade in Grade_detail[student]:\n",
    "        summation = summation + grade\n",
    "    avg = round((summation)/len(Grade_detail[student]),2)\n",
    "    Grade_detail[student] = avg \n",
    "\n",
    "for student in sorted(student_detail.keys()):\n",
    "    if student not in Grade_detail.keys():\n",
    "        print(student+\"~\"+student_detail[student]+\"~\"+\"0\")\n",
    "    else:\n",
    "        print(student+\"~\"+student_detail[student]+\"~\"+ str(Grade_detail[student]))   \n",
    "    "
   ]
  },
  {
   "cell_type": "code",
   "execution_count": null,
   "id": "756c43a8",
   "metadata": {},
   "outputs": [],
   "source": []
  },
  {
   "cell_type": "code",
   "execution_count": null,
   "id": "2baf93f0",
   "metadata": {},
   "outputs": [],
   "source": []
  },
  {
   "cell_type": "code",
   "execution_count": null,
   "id": "1b3ede8b",
   "metadata": {},
   "outputs": [],
   "source": []
  }
 ],
 "metadata": {
  "kernelspec": {
   "display_name": "Python 3",
   "language": "python",
   "name": "python3"
  },
  "language_info": {
   "codemirror_mode": {
    "name": "ipython",
    "version": 3
   },
   "file_extension": ".py",
   "mimetype": "text/x-python",
   "name": "python",
   "nbconvert_exporter": "python",
   "pygments_lexer": "ipython3",
   "version": "3.8.8"
  }
 },
 "nbformat": 4,
 "nbformat_minor": 5
}
